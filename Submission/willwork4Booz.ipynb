{
 "cells": [
  {
   "cell_type": "code",
   "execution_count": 1,
   "metadata": {},
   "outputs": [],
   "source": [
    "import pandas as pd\n",
    "import numpy as np\n",
    "np.set_printoptions(suppress=True)\n",
    "import vptree\n",
    "from geopy.distance import great_circle\n",
    "from scipy.spatial import distance\n",
    "import random\n",
    "import time\n",
    "from pandas import datetime"
   ]
  },
  {
   "cell_type": "code",
   "execution_count": null,
   "metadata": {},
   "outputs": [],
   "source": [
    "start = time.time()\n",
    "temp_df = pd.read_csv('AIS_2017_12_Zone11.csv')\n",
    "end = time.time()\n",
    "print('AIS 2017 Zone 11 Loaded.  Time: '+str(round(end-start,2)))"
   ]
  },
  {
   "cell_type": "code",
   "execution_count": null,
   "metadata": {},
   "outputs": [],
   "source": [
    "old_df = temp_df.copy()\n",
    "temp_df.head()"
   ]
  },
  {
   "cell_type": "code",
   "execution_count": null,
   "metadata": {},
   "outputs": [],
   "source": [
    "temp_df['BaseDateTime'] = pd.to_datetime(temp_df['BaseDateTime'])\n",
    "temp_df.BaseDateTime.dt.normalize().value_counts()"
   ]
  },
  {
   "cell_type": "code",
   "execution_count": null,
   "metadata": {},
   "outputs": [],
   "source": [
    "temp_df.Status.unique()"
   ]
  },
  {
   "cell_type": "code",
   "execution_count": null,
   "metadata": {},
   "outputs": [],
   "source": [
    "temp_df.BaseDateTime.value_counts()"
   ]
  },
  {
   "cell_type": "code",
   "execution_count": null,
   "metadata": {},
   "outputs": [],
   "source": []
  },
  {
   "cell_type": "code",
   "execution_count": null,
   "metadata": {},
   "outputs": [],
   "source": [
    "temp_df.drop(['VesselName','IMO','CallSign','VesselType','Status','Length','Width','Draft','Cargo','LAT','LON'], axis=1, inplace=True)"
   ]
  },
  {
   "cell_type": "code",
   "execution_count": null,
   "metadata": {},
   "outputs": [],
   "source": [
    "temp_df.set_index('MMSI',inplace=True)\n",
    "temp_df['modified_COG'] = temp_df.COG%360\n",
    "temp_df.drop(['COG'], axis=1, inplace=True)\n",
    "temp_df.head()"
   ]
  },
  {
   "cell_type": "code",
   "execution_count": null,
   "metadata": {},
   "outputs": [],
   "source": [
    "temp_df.loc[367047120,:].sort_values(by=['BaseDateTime'])"
   ]
  },
  {
   "cell_type": "code",
   "execution_count": null,
   "metadata": {},
   "outputs": [],
   "source": [
    "df = temp_df.loc[367047120,:].sort_values(by=['BaseDateTime'])"
   ]
  },
  {
   "cell_type": "code",
   "execution_count": null,
   "metadata": {},
   "outputs": [],
   "source": [
    "(df.modified_COG<0).unique()"
   ]
  },
  {
   "cell_type": "code",
   "execution_count": null,
   "metadata": {},
   "outputs": [],
   "source": [
    "temp_df.drop(['COG'], axis=1, inplace=True)"
   ]
  },
  {
   "cell_type": "code",
   "execution_count": null,
   "metadata": {},
   "outputs": [],
   "source": [
    "np_temp_df = temp_df.values"
   ]
  },
  {
   "cell_type": "code",
   "execution_count": null,
   "metadata": {},
   "outputs": [],
   "source": [
    "type(np_temp_df)"
   ]
  },
  {
   "cell_type": "code",
   "execution_count": null,
   "metadata": {},
   "outputs": [],
   "source": [
    "np_temp_df.shape"
   ]
  },
  {
   "cell_type": "code",
   "execution_count": null,
   "metadata": {},
   "outputs": [],
   "source": [
    "temp_df.shape"
   ]
  },
  {
   "cell_type": "code",
   "execution_count": null,
   "metadata": {},
   "outputs": [],
   "source": [
    "import random\n",
    "ship = temp_df.loc[np.random.choice(temp_df.index)].iloc[random.randint(0,a.shape[0])].values.reshape(3,1)\n",
    "ship\n",
    "#ship.values.reshape(3,1)\n",
    "#np_temp_df.shape"
   ]
  },
  {
   "cell_type": "code",
   "execution_count": null,
   "metadata": {},
   "outputs": [],
   "source": [
    "start = time.time()\n",
    "score_cos = distance.cdist(ship.values.reshape(3,1).T, np_temp_df, 'cosine').tolist()\n",
    "labels = temp_df.index.tolist()\n",
    "sorted_scores = sorted(list(zip(labels,score_cos[0])), key = lambda t: t[1])\n",
    "end = time.time()\n",
    "print('Cosine Similarity with SciPy.  Time: '+str(round(end-start,2))"
   ]
  },
  {
   "cell_type": "code",
   "execution_count": null,
   "metadata": {},
   "outputs": [],
   "source": [
    "min(sorted_scores)"
   ]
  },
  {
   "cell_type": "code",
   "execution_count": null,
   "metadata": {},
   "outputs": [],
   "source": [
    "max(sorted_scores)"
   ]
  },
  {
   "cell_type": "code",
   "execution_count": null,
   "metadata": {},
   "outputs": [],
   "source": [
    "old_df.loc[1071867621,:].sort_values(by=['BaseDateTime'])"
   ]
  },
  {
   "cell_type": "code",
   "execution_count": null,
   "metadata": {},
   "outputs": [],
   "source": [
    "def generate_points(df_ships):\n",
    "    '''\n",
    "    Takes in a dataframe of ship data and uses MMSI, Latitude, and Longitude fields\n",
    "    in order to tuen them into points that can be passed to the vantage tree function.\n",
    "    '''\n",
    "    points = tuple(zip(df_ships.index, df_ships.LAT, df_ships.LON))\n",
    "    return points\n",
    "\n",
    "def get_distance_in_meters(point1, point2):\n",
    "    '''\n",
    "    Returns the distance in meters between two points.\n",
    "    '''\n",
    "    p1_lat_lon = (point1[1], point1[2])\n",
    "    p2_lat_lon = (point2[1], point2[2])\n",
    "    return great_circle(p1_lat_lon, p2_lat_lon).m\n",
    "\n",
    "def generate_vantage_point_tree(points):    \n",
    "    tree = vptree.VPTree(points, get_distance_in_meters)\n",
    "    return tree "
   ]
  },
  {
   "cell_type": "code",
   "execution_count": null,
   "metadata": {},
   "outputs": [],
   "source": [
    "def initialize_data_old(filepath):\n",
    "    start = time.time()\n",
    "    df = pd.read_csv(filepath)\n",
    "    day = df[df['BaseDateTime'].dt.date == datetime.date(2017, 12, 31)]\n",
    "    day['BaseDateTime_Rounded'] = day['BaseDateTime'].dt.round('10min')\n",
    "    #day = day.reset_index(drop = True)\n",
    "    \n",
    "    \n",
    "    \n",
    "    df.drop(['VesselName','IMO','CallSign','VesselType','Status','Length','Width','Draft','Cargo','LAT','LON'], axis=1, inplace=True)\n",
    "    df['modified_COG'] = df.COG%360\n",
    "    df.drop(['COG'], axis=1, inplace=True)\n",
    "    df.set_index('MMSI',inplace=True)\n",
    "    end = time.time()\n",
    "    print('Data Loaded.  Time: '+str(round(end-start,2)))\n",
    "    return df "
   ]
  },
  {
   "cell_type": "code",
   "execution_count": null,
   "metadata": {},
   "outputs": [],
   "source": [
    "#[21,22,31,32,36,37,52,1002,1001,1023,1025]\n",
    "#df = df[df.Status.isin(['under way using engine','at anchor'])]\n",
    "#compression='zip'"
   ]
  },
  {
   "cell_type": "code",
   "execution_count": 3,
   "metadata": {},
   "outputs": [],
   "source": [
    "def initialize_data(filepath):\n",
    "    start = time.time()\n",
    "    df = pd.read_csv(filepath)\n",
    "    df.BaseDateTime = pd.to_datetime(df.BaseDateTime, errors='raise')\n",
    "    # Filter out Tug Boats & Fishing vessels\n",
    "    df = df[~df.VesselType.isin([21,22,31,32,52,1023,1025])] \n",
    "    df.drop(['VesselName','IMO','CallSign','VesselType','Status','Length','Width','Draft','Cargo','LAT','LON'], axis=1, inplace=True)\n",
    "    df['modified_COG'] = df.COG%360\n",
    "    df.drop(['COG'], axis=1, inplace=True)\n",
    "    df.set_index('MMSI',inplace=True)\n",
    "    # Filter for December 31, 2017\n",
    "    df = df.loc[(df.BaseDateTime < pd.to_datetime('2018-01-01')) & (df.BaseDateTime > pd.to_datetime('2017-12-31'))]\n",
    "    end = time.time()\n",
    "    print('Data Loaded.  Time: '+str(round(end-start,2)))\n",
    "    return df"
   ]
  },
  {
   "cell_type": "code",
   "execution_count": 4,
   "metadata": {},
   "outputs": [
    {
     "name": "stdout",
     "output_type": "stream",
     "text": [
      "Data Loaded.  Time: 87.8\n"
     ]
    },
    {
     "data": {
      "text/html": [
       "<div>\n",
       "<style scoped>\n",
       "    .dataframe tbody tr th:only-of-type {\n",
       "        vertical-align: middle;\n",
       "    }\n",
       "\n",
       "    .dataframe tbody tr th {\n",
       "        vertical-align: top;\n",
       "    }\n",
       "\n",
       "    .dataframe thead th {\n",
       "        text-align: right;\n",
       "    }\n",
       "</style>\n",
       "<table border=\"1\" class=\"dataframe\">\n",
       "  <thead>\n",
       "    <tr style=\"text-align: right;\">\n",
       "      <th></th>\n",
       "      <th>BaseDateTime</th>\n",
       "      <th>SOG</th>\n",
       "      <th>Heading</th>\n",
       "      <th>modified_COG</th>\n",
       "    </tr>\n",
       "    <tr>\n",
       "      <th>MMSI</th>\n",
       "      <th></th>\n",
       "      <th></th>\n",
       "      <th></th>\n",
       "      <th></th>\n",
       "    </tr>\n",
       "  </thead>\n",
       "  <tbody>\n",
       "    <tr>\n",
       "      <th>367008510</th>\n",
       "      <td>2017-12-31 00:02:04</td>\n",
       "      <td>30.0</td>\n",
       "      <td>511.0</td>\n",
       "      <td>14.5</td>\n",
       "    </tr>\n",
       "    <tr>\n",
       "      <th>338210835</th>\n",
       "      <td>2017-12-31 00:00:01</td>\n",
       "      <td>0.0</td>\n",
       "      <td>511.0</td>\n",
       "      <td>195.8</td>\n",
       "    </tr>\n",
       "    <tr>\n",
       "      <th>538007153</th>\n",
       "      <td>2017-12-31 00:01:18</td>\n",
       "      <td>0.6</td>\n",
       "      <td>27.0</td>\n",
       "      <td>127.9</td>\n",
       "    </tr>\n",
       "    <tr>\n",
       "      <th>338150975</th>\n",
       "      <td>2017-12-31 00:01:14</td>\n",
       "      <td>0.0</td>\n",
       "      <td>511.0</td>\n",
       "      <td>282.5</td>\n",
       "    </tr>\n",
       "    <tr>\n",
       "      <th>367034320</th>\n",
       "      <td>2017-12-31 00:01:15</td>\n",
       "      <td>0.2</td>\n",
       "      <td>511.0</td>\n",
       "      <td>174.8</td>\n",
       "    </tr>\n",
       "  </tbody>\n",
       "</table>\n",
       "</div>"
      ],
      "text/plain": [
       "                 BaseDateTime   SOG  Heading  modified_COG\n",
       "MMSI                                                      \n",
       "367008510 2017-12-31 00:02:04  30.0    511.0          14.5\n",
       "338210835 2017-12-31 00:00:01   0.0    511.0         195.8\n",
       "538007153 2017-12-31 00:01:18   0.6     27.0         127.9\n",
       "338150975 2017-12-31 00:01:14   0.0    511.0         282.5\n",
       "367034320 2017-12-31 00:01:15   0.2    511.0         174.8"
      ]
     },
     "execution_count": 4,
     "metadata": {},
     "output_type": "execute_result"
    }
   ],
   "source": [
    "jared = initialize_data('AIS_2017_12_Zone11.csv')\n",
    "jared.head()"
   ]
  },
  {
   "cell_type": "code",
   "execution_count": null,
   "metadata": {},
   "outputs": [],
   "source": [
    "jared = jared.drop(['BaseDateTime'], axis=1, inplace=True)\n",
    "jared.head(10)"
   ]
  },
  {
   "cell_type": "code",
   "execution_count": null,
   "metadata": {},
   "outputs": [],
   "source": [
    "jared.loc[367034320]"
   ]
  },
  {
   "cell_type": "code",
   "execution_count": null,
   "metadata": {},
   "outputs": [],
   "source": [
    "jared.shape"
   ]
  },
  {
   "cell_type": "code",
   "execution_count": null,
   "metadata": {},
   "outputs": [],
   "source": [
    "ship_vec = jared.values.reshape(3,1).T\n",
    "ship_vec"
   ]
  },
  {
   "cell_type": "code",
   "execution_count": null,
   "metadata": {},
   "outputs": [],
   "source": [
    "durka_jared = cosine_distance(441989000,'AIS_2017_12_Zone11.csv')"
   ]
  },
  {
   "cell_type": "code",
   "execution_count": null,
   "metadata": {},
   "outputs": [],
   "source": [
    "def create_feature_matrix(filepath):\n",
    "    start = time.time()\n",
    "    feature_df = initialize_data(filepath)\n",
    "    feature_df = feature_df.drop(['BaseDateTime'], axis=1)\n",
    "    feature_matrix = feature_df.values\n",
    "    np.save('ship_feature_matrix', feature_matrix)"
   ]
  },
  {
   "cell_type": "code",
   "execution_count": null,
   "metadata": {},
   "outputs": [],
   "source": [
    "def cosine_distance(MMSI,filepath):\n",
    "    start = time.time()\n",
    "    df = initialize_data(filepath)\n",
    "    feature_df = df.copy()\n",
    "    \n",
    "    #df = df.loc[MMSI].iloc[np.where(df.loc[MMSI].BaseDateTime == date)]\n",
    "    df = df.loc[MMSI]\n",
    "    df = df.drop(['BaseDateTime'], axis=1)\n",
    "    ship_vec = df.values.reshape(3,1).T\n",
    "    \n",
    "    feature_df = feature_df.drop(['BaseDateTime'], axis=1)\n",
    "    feature_matrix = feature_df.values\n",
    "    #feature_matrix = np.load('ship_feature_matrix')\n",
    "    \n",
    "    score_cos = distance.cdist(ship_vec, feature_matrix, 'cosine').tolist() #.values\n",
    "    labels = feature_df.index.tolist()\n",
    "    end = time.time()\n",
    "    print('Cosine Similarity calculated.  Time: '+str(round(end-start,2)))\n",
    "    return sorted(list(zip(labels,score_cos[0])), key = lambda t: t[1])"
   ]
  },
  {
   "cell_type": "code",
   "execution_count": null,
   "metadata": {},
   "outputs": [],
   "source": [
    "def ship_angle(cos_score):\n",
    "    angle = []\n",
    "    ships = []\n",
    "    for key,value in dict(cos_score).items():\n",
    "        angle.append(np.rad2deg(np.arccos(value))+180)\n",
    "        ships.append(key)\n",
    "    return angle, ships\n",
    "#angle = convert from radians to angle arccosine(score_cos) + 180"
   ]
  },
  {
   "cell_type": "code",
   "execution_count": null,
   "metadata": {},
   "outputs": [],
   "source": [
    "def colregs_calssification(cos_score):\n",
    "    angle, ships = ship_angle(cos_score)\n",
    "    colgres_classification = []\n",
    "    for a in angle:\n",
    "        if 5 > a > 0:\n",
    "            colgres_classification.append('HEADON')\n",
    "        if 112.5 > a > 5:\n",
    "            colgres_classification.append('CROSSING')\n",
    "        if 247.5 > a > 112.5:\n",
    "            colgres_classification.append('OVERTAKING')\n",
    "        if 355 > a > 247.5:\n",
    "            colgres_classification.append('CROSSING')\n",
    "        if 360 > a > 355:\n",
    "            colgres_classification.append('HEADON')\n",
    "    return ships, angle, colgres_classification"
   ]
  },
  {
   "cell_type": "code",
   "execution_count": null,
   "metadata": {},
   "outputs": [],
   "source": [
    "d = initialize_data('AIS_2017_12_Zone11.zip')"
   ]
  },
  {
   "cell_type": "code",
   "execution_count": null,
   "metadata": {},
   "outputs": [],
   "source": [
    "d"
   ]
  },
  {
   "cell_type": "code",
   "execution_count": null,
   "metadata": {},
   "outputs": [],
   "source": [
    "durka = cosine_distance(367047120,'2017-12-01T00:02:21','AIS_2017_12_Zone11.zip')\n",
    "durka"
   ]
  },
  {
   "cell_type": "code",
   "execution_count": null,
   "metadata": {},
   "outputs": [],
   "source": [
    "a,b,c = colregs_calssification(durka)"
   ]
  },
  {
   "cell_type": "code",
   "execution_count": null,
   "metadata": {},
   "outputs": [],
   "source": [
    "c # filter by MMSIs needed, wasting computation on "
   ]
  },
  {
   "cell_type": "code",
   "execution_count": null,
   "metadata": {},
   "outputs": [],
   "source": []
  },
  {
   "cell_type": "code",
   "execution_count": null,
   "metadata": {},
   "outputs": [],
   "source": [
    "a,b,c = colgres_calssification(durka)"
   ]
  },
  {
   "cell_type": "code",
   "execution_count": null,
   "metadata": {},
   "outputs": [],
   "source": []
  },
  {
   "cell_type": "code",
   "execution_count": null,
   "metadata": {},
   "outputs": [],
   "source": [
    "ship = df.loc[367047120].iloc[np.where(df.loc[367047120].BaseDateTime == '2017-12-01T00:02:21')]\n",
    "#ship_vec = ship.drop(['BaseDateTime'], axis=1, inplace=True)\n",
    "#ship_vec = ship.drop(['BaseDateTime'])\n",
    "#ship_vec"
   ]
  },
  {
   "cell_type": "code",
   "execution_count": null,
   "metadata": {},
   "outputs": [],
   "source": [
    "c"
   ]
  },
  {
   "cell_type": "code",
   "execution_count": null,
   "metadata": {},
   "outputs": [],
   "source": [
    "np.where(df.loc[367047120].BaseDateTime == '2017-12-01T00:02:21')[0][0]"
   ]
  },
  {
   "cell_type": "code",
   "execution_count": null,
   "metadata": {},
   "outputs": [],
   "source": [
    "df.loc[367047120].iloc[3].drop(['BaseDateTime']).values.reshape(3,1).T"
   ]
  },
  {
   "cell_type": "code",
   "execution_count": null,
   "metadata": {},
   "outputs": [],
   "source": [
    "df.loc[367047120]"
   ]
  },
  {
   "cell_type": "code",
   "execution_count": null,
   "metadata": {},
   "outputs": [],
   "source": [
    "type(durka[0])\n",
    "#np.rad2deg(score_cos)\n",
    "#angle = convert from radians to angle arccosine(score_cos) + 180"
   ]
  },
  {
   "cell_type": "code",
   "execution_count": null,
   "metadata": {},
   "outputs": [],
   "source": []
  },
  {
   "cell_type": "code",
   "execution_count": null,
   "metadata": {},
   "outputs": [],
   "source": []
  },
  {
   "cell_type": "code",
   "execution_count": null,
   "metadata": {},
   "outputs": [],
   "source": []
  },
  {
   "cell_type": "code",
   "execution_count": null,
   "metadata": {},
   "outputs": [],
   "source": [
    "if 'HEADON' in colgres_classification:\n",
    "    print('DURKA')"
   ]
  },
  {
   "cell_type": "code",
   "execution_count": null,
   "metadata": {},
   "outputs": [],
   "source": [
    "for a in angle:\n",
    "    if a<5:\n",
    "        print('durka')\n",
    "    if a>355:\n",
    "        print('durka doo')"
   ]
  }
 ],
 "metadata": {
  "kernelspec": {
   "display_name": "Python 3",
   "language": "python",
   "name": "python3"
  },
  "language_info": {
   "codemirror_mode": {
    "name": "ipython",
    "version": 3
   },
   "file_extension": ".py",
   "mimetype": "text/x-python",
   "name": "python",
   "nbconvert_exporter": "python",
   "pygments_lexer": "ipython3",
   "version": "3.6.5"
  }
 },
 "nbformat": 4,
 "nbformat_minor": 2
}
